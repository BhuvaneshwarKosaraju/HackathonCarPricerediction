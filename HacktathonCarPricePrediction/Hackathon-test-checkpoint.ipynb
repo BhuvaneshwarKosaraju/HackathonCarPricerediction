{
 "cells": [
  {
   "cell_type": "markdown",
   "metadata": {},
   "source": [
    "#  IMPORTING THE REQUIRED LIBRARIES"
   ]
  },
  {
   "cell_type": "code",
   "execution_count": 1,
   "metadata": {},
   "outputs": [],
   "source": [
    "#importing libraries\n",
    "import warnings\n",
    "warnings.filterwarnings('ignore')\n",
    "import numpy as np\n",
    "import pandas as pd\n",
    "import matplotlib.pyplot as plt\n",
    "import seaborn as sns\n",
    "from sklearn.impute import KNNImputer\n",
    "from sklearn.preprocessing import LabelEncoder"
   ]
  },
  {
   "cell_type": "markdown",
   "metadata": {},
   "source": [
    "#  LOAD THE DATASET"
   ]
  },
  {
   "cell_type": "code",
   "execution_count": 2,
   "metadata": {},
   "outputs": [
    {
     "data": {
      "text/html": [
       "<div>\n",
       "<style scoped>\n",
       "    .dataframe tbody tr th:only-of-type {\n",
       "        vertical-align: middle;\n",
       "    }\n",
       "\n",
       "    .dataframe tbody tr th {\n",
       "        vertical-align: top;\n",
       "    }\n",
       "\n",
       "    .dataframe thead th {\n",
       "        text-align: right;\n",
       "    }\n",
       "</style>\n",
       "<table border=\"1\" class=\"dataframe\">\n",
       "  <thead>\n",
       "    <tr style=\"text-align: right;\">\n",
       "      <th></th>\n",
       "      <th>Id</th>\n",
       "      <th>Maker</th>\n",
       "      <th>model</th>\n",
       "      <th>Location</th>\n",
       "      <th>Distance</th>\n",
       "      <th>Owner Type</th>\n",
       "      <th>manufacture_year</th>\n",
       "      <th>Age of car</th>\n",
       "      <th>engine_displacement</th>\n",
       "      <th>engine_power</th>\n",
       "      <th>body_type</th>\n",
       "      <th>Vroom Audit Rating</th>\n",
       "      <th>transmission</th>\n",
       "      <th>door_count</th>\n",
       "      <th>seat_count</th>\n",
       "      <th>fuel_type</th>\n",
       "    </tr>\n",
       "  </thead>\n",
       "  <tbody>\n",
       "    <tr>\n",
       "      <th>0</th>\n",
       "      <td>11001</td>\n",
       "      <td>skoda</td>\n",
       "      <td>octavia</td>\n",
       "      <td>Mumbai</td>\n",
       "      <td>150000.0</td>\n",
       "      <td>First</td>\n",
       "      <td>2007</td>\n",
       "      <td>12</td>\n",
       "      <td>1595</td>\n",
       "      <td>75.0</td>\n",
       "      <td>NaN</td>\n",
       "      <td>5</td>\n",
       "      <td>man</td>\n",
       "      <td>4</td>\n",
       "      <td>5</td>\n",
       "      <td>petrol</td>\n",
       "    </tr>\n",
       "    <tr>\n",
       "      <th>1</th>\n",
       "      <td>11002</td>\n",
       "      <td>skoda</td>\n",
       "      <td>rapid</td>\n",
       "      <td>Coimbatore</td>\n",
       "      <td>29376.0</td>\n",
       "      <td>Third</td>\n",
       "      <td>2014</td>\n",
       "      <td>5</td>\n",
       "      <td>1598</td>\n",
       "      <td>77.0</td>\n",
       "      <td>NaN</td>\n",
       "      <td>4</td>\n",
       "      <td>man</td>\n",
       "      <td>4</td>\n",
       "      <td>5</td>\n",
       "      <td>diesel</td>\n",
       "    </tr>\n",
       "    <tr>\n",
       "      <th>2</th>\n",
       "      <td>11003</td>\n",
       "      <td>skoda</td>\n",
       "      <td>octavia</td>\n",
       "      <td>Coimbatore</td>\n",
       "      <td>30563.0</td>\n",
       "      <td>Second</td>\n",
       "      <td>2014</td>\n",
       "      <td>5</td>\n",
       "      <td>1968</td>\n",
       "      <td>110.0</td>\n",
       "      <td>NaN</td>\n",
       "      <td>5</td>\n",
       "      <td>man</td>\n",
       "      <td>5</td>\n",
       "      <td>5</td>\n",
       "      <td>diesel</td>\n",
       "    </tr>\n",
       "    <tr>\n",
       "      <th>3</th>\n",
       "      <td>11004</td>\n",
       "      <td>audi</td>\n",
       "      <td>q3</td>\n",
       "      <td>Delhi</td>\n",
       "      <td>8650.0</td>\n",
       "      <td>Fourth &amp; Above</td>\n",
       "      <td>2015</td>\n",
       "      <td>4</td>\n",
       "      <td>1968</td>\n",
       "      <td>110.0</td>\n",
       "      <td>NaN</td>\n",
       "      <td>8</td>\n",
       "      <td>auto</td>\n",
       "      <td>4</td>\n",
       "      <td>5</td>\n",
       "      <td>diesel</td>\n",
       "    </tr>\n",
       "    <tr>\n",
       "      <th>4</th>\n",
       "      <td>11005</td>\n",
       "      <td>audi</td>\n",
       "      <td>tt</td>\n",
       "      <td>Chennai</td>\n",
       "      <td>6400.0</td>\n",
       "      <td>Third</td>\n",
       "      <td>2015</td>\n",
       "      <td>4</td>\n",
       "      <td>1984</td>\n",
       "      <td>169.0</td>\n",
       "      <td>NaN</td>\n",
       "      <td>4</td>\n",
       "      <td>auto</td>\n",
       "      <td>2</td>\n",
       "      <td>None</td>\n",
       "      <td>petrol</td>\n",
       "    </tr>\n",
       "  </tbody>\n",
       "</table>\n",
       "</div>"
      ],
      "text/plain": [
       "      Id  Maker    model    Location  Distance       Owner Type  \\\n",
       "0  11001  skoda  octavia      Mumbai   150000.0           First   \n",
       "1  11002  skoda    rapid  Coimbatore    29376.0           Third   \n",
       "2  11003  skoda  octavia  Coimbatore    30563.0          Second   \n",
       "3  11004   audi       q3       Delhi     8650.0  Fourth & Above   \n",
       "4  11005   audi       tt     Chennai     6400.0           Third   \n",
       "\n",
       "   manufacture_year  Age of car  engine_displacement  engine_power body_type  \\\n",
       "0              2007          12                 1595          75.0       NaN   \n",
       "1              2014           5                 1598          77.0       NaN   \n",
       "2              2014           5                 1968         110.0       NaN   \n",
       "3              2015           4                 1968         110.0       NaN   \n",
       "4              2015           4                 1984         169.0       NaN   \n",
       "\n",
       "   Vroom Audit Rating transmission door_count seat_count fuel_type  \n",
       "0                   5          man          4          5    petrol  \n",
       "1                   4          man          4          5    diesel  \n",
       "2                   5          man          5          5    diesel  \n",
       "3                   8         auto          4          5    diesel  \n",
       "4                   4         auto          2       None    petrol  "
      ]
     },
     "execution_count": 2,
     "metadata": {},
     "output_type": "execute_result"
    }
   ],
   "source": [
    "df = pd.read_csv('C:\\\\Users\\\\shiva\\\\OneDrive\\\\Desktop\\\\CarPriceAnalysisHackathon\\\\Test_Data_Set.csv')\n",
    "df.head()"
   ]
  },
  {
   "cell_type": "markdown",
   "metadata": {},
   "source": [
    "#  GET FAMILIAR WITH THE DATASET"
   ]
  },
  {
   "cell_type": "code",
   "execution_count": 3,
   "metadata": {},
   "outputs": [
    {
     "data": {
      "text/html": [
       "<div>\n",
       "<style scoped>\n",
       "    .dataframe tbody tr th:only-of-type {\n",
       "        vertical-align: middle;\n",
       "    }\n",
       "\n",
       "    .dataframe tbody tr th {\n",
       "        vertical-align: top;\n",
       "    }\n",
       "\n",
       "    .dataframe thead th {\n",
       "        text-align: right;\n",
       "    }\n",
       "</style>\n",
       "<table border=\"1\" class=\"dataframe\">\n",
       "  <thead>\n",
       "    <tr style=\"text-align: right;\">\n",
       "      <th></th>\n",
       "      <th>Id</th>\n",
       "      <th>Maker</th>\n",
       "      <th>model</th>\n",
       "      <th>Location</th>\n",
       "      <th>Distance</th>\n",
       "      <th>Owner Type</th>\n",
       "      <th>manufacture_year</th>\n",
       "      <th>Age of car</th>\n",
       "      <th>engine_displacement</th>\n",
       "      <th>engine_power</th>\n",
       "      <th>body_type</th>\n",
       "      <th>Vroom Audit Rating</th>\n",
       "      <th>transmission</th>\n",
       "      <th>door_count</th>\n",
       "      <th>seat_count</th>\n",
       "      <th>fuel_type</th>\n",
       "    </tr>\n",
       "  </thead>\n",
       "  <tbody>\n",
       "    <tr>\n",
       "      <th>0</th>\n",
       "      <td>11001</td>\n",
       "      <td>skoda</td>\n",
       "      <td>octavia</td>\n",
       "      <td>Mumbai</td>\n",
       "      <td>150000.0</td>\n",
       "      <td>First</td>\n",
       "      <td>2007</td>\n",
       "      <td>12</td>\n",
       "      <td>1595</td>\n",
       "      <td>75.0</td>\n",
       "      <td>NaN</td>\n",
       "      <td>5</td>\n",
       "      <td>man</td>\n",
       "      <td>4</td>\n",
       "      <td>5</td>\n",
       "      <td>petrol</td>\n",
       "    </tr>\n",
       "    <tr>\n",
       "      <th>1</th>\n",
       "      <td>11002</td>\n",
       "      <td>skoda</td>\n",
       "      <td>rapid</td>\n",
       "      <td>Coimbatore</td>\n",
       "      <td>29376.0</td>\n",
       "      <td>Third</td>\n",
       "      <td>2014</td>\n",
       "      <td>5</td>\n",
       "      <td>1598</td>\n",
       "      <td>77.0</td>\n",
       "      <td>NaN</td>\n",
       "      <td>4</td>\n",
       "      <td>man</td>\n",
       "      <td>4</td>\n",
       "      <td>5</td>\n",
       "      <td>diesel</td>\n",
       "    </tr>\n",
       "    <tr>\n",
       "      <th>2</th>\n",
       "      <td>11003</td>\n",
       "      <td>skoda</td>\n",
       "      <td>octavia</td>\n",
       "      <td>Coimbatore</td>\n",
       "      <td>30563.0</td>\n",
       "      <td>Second</td>\n",
       "      <td>2014</td>\n",
       "      <td>5</td>\n",
       "      <td>1968</td>\n",
       "      <td>110.0</td>\n",
       "      <td>NaN</td>\n",
       "      <td>5</td>\n",
       "      <td>man</td>\n",
       "      <td>5</td>\n",
       "      <td>5</td>\n",
       "      <td>diesel</td>\n",
       "    </tr>\n",
       "    <tr>\n",
       "      <th>3</th>\n",
       "      <td>11004</td>\n",
       "      <td>audi</td>\n",
       "      <td>q3</td>\n",
       "      <td>Delhi</td>\n",
       "      <td>8650.0</td>\n",
       "      <td>Fourth &amp; Above</td>\n",
       "      <td>2015</td>\n",
       "      <td>4</td>\n",
       "      <td>1968</td>\n",
       "      <td>110.0</td>\n",
       "      <td>NaN</td>\n",
       "      <td>8</td>\n",
       "      <td>auto</td>\n",
       "      <td>4</td>\n",
       "      <td>5</td>\n",
       "      <td>diesel</td>\n",
       "    </tr>\n",
       "    <tr>\n",
       "      <th>4</th>\n",
       "      <td>11005</td>\n",
       "      <td>audi</td>\n",
       "      <td>tt</td>\n",
       "      <td>Chennai</td>\n",
       "      <td>6400.0</td>\n",
       "      <td>Third</td>\n",
       "      <td>2015</td>\n",
       "      <td>4</td>\n",
       "      <td>1984</td>\n",
       "      <td>169.0</td>\n",
       "      <td>NaN</td>\n",
       "      <td>4</td>\n",
       "      <td>auto</td>\n",
       "      <td>2</td>\n",
       "      <td>None</td>\n",
       "      <td>petrol</td>\n",
       "    </tr>\n",
       "  </tbody>\n",
       "</table>\n",
       "</div>"
      ],
      "text/plain": [
       "      Id  Maker    model    Location  Distance       Owner Type  \\\n",
       "0  11001  skoda  octavia      Mumbai   150000.0           First   \n",
       "1  11002  skoda    rapid  Coimbatore    29376.0           Third   \n",
       "2  11003  skoda  octavia  Coimbatore    30563.0          Second   \n",
       "3  11004   audi       q3       Delhi     8650.0  Fourth & Above   \n",
       "4  11005   audi       tt     Chennai     6400.0           Third   \n",
       "\n",
       "   manufacture_year  Age of car  engine_displacement  engine_power body_type  \\\n",
       "0              2007          12                 1595          75.0       NaN   \n",
       "1              2014           5                 1598          77.0       NaN   \n",
       "2              2014           5                 1968         110.0       NaN   \n",
       "3              2015           4                 1968         110.0       NaN   \n",
       "4              2015           4                 1984         169.0       NaN   \n",
       "\n",
       "   Vroom Audit Rating transmission door_count seat_count fuel_type  \n",
       "0                   5          man          4          5    petrol  \n",
       "1                   4          man          4          5    diesel  \n",
       "2                   5          man          5          5    diesel  \n",
       "3                   8         auto          4          5    diesel  \n",
       "4                   4         auto          2       None    petrol  "
      ]
     },
     "execution_count": 3,
     "metadata": {},
     "output_type": "execute_result"
    }
   ],
   "source": [
    "#analysing the dataset\n",
    "df.head()"
   ]
  },
  {
   "cell_type": "code",
   "execution_count": 4,
   "metadata": {},
   "outputs": [
    {
     "data": {
      "text/plain": [
       "(5615, 16)"
      ]
     },
     "execution_count": 4,
     "metadata": {},
     "output_type": "execute_result"
    }
   ],
   "source": [
    "#checking the size\n",
    "df.shape #53515 rows and 17 columns"
   ]
  },
  {
   "cell_type": "code",
   "execution_count": 5,
   "metadata": {},
   "outputs": [
    {
     "data": {
      "text/plain": [
       "Id                       int64\n",
       "Maker                   object\n",
       "model                   object\n",
       "Location                object\n",
       "Distance               float64\n",
       "Owner Type              object\n",
       "manufacture_year         int64\n",
       "Age of car               int64\n",
       "engine_displacement      int64\n",
       "engine_power           float64\n",
       "body_type               object\n",
       "Vroom Audit Rating       int64\n",
       "transmission            object\n",
       "door_count              object\n",
       "seat_count              object\n",
       "fuel_type               object\n",
       "dtype: object"
      ]
     },
     "execution_count": 5,
     "metadata": {},
     "output_type": "execute_result"
    }
   ],
   "source": [
    "#datatype\n",
    "df.dtypes"
   ]
  },
  {
   "cell_type": "code",
   "execution_count": 6,
   "metadata": {},
   "outputs": [
    {
     "name": "stdout",
     "output_type": "stream",
     "text": [
      "<class 'pandas.core.frame.DataFrame'>\n",
      "RangeIndex: 5615 entries, 0 to 5614\n",
      "Data columns (total 16 columns):\n",
      " #   Column               Non-Null Count  Dtype  \n",
      "---  ------               --------------  -----  \n",
      " 0   Id                   5615 non-null   int64  \n",
      " 1   Maker                5615 non-null   object \n",
      " 2   model                5615 non-null   object \n",
      " 3   Location             5615 non-null   object \n",
      " 4   Distance             5487 non-null   float64\n",
      " 5   Owner Type           5615 non-null   object \n",
      " 6   manufacture_year     5615 non-null   int64  \n",
      " 7   Age of car           5615 non-null   int64  \n",
      " 8   engine_displacement  5615 non-null   int64  \n",
      " 9   engine_power         5447 non-null   float64\n",
      " 10  body_type            422 non-null    object \n",
      " 11  Vroom Audit Rating   5615 non-null   int64  \n",
      " 12  transmission         5615 non-null   object \n",
      " 13  door_count           5615 non-null   object \n",
      " 14  seat_count           5615 non-null   object \n",
      " 15  fuel_type            5615 non-null   object \n",
      "dtypes: float64(2), int64(5), object(9)\n",
      "memory usage: 702.0+ KB\n"
     ]
    }
   ],
   "source": [
    "df.info()"
   ]
  },
  {
   "cell_type": "code",
   "execution_count": 7,
   "metadata": {},
   "outputs": [
    {
     "data": {
      "text/html": [
       "<div>\n",
       "<style scoped>\n",
       "    .dataframe tbody tr th:only-of-type {\n",
       "        vertical-align: middle;\n",
       "    }\n",
       "\n",
       "    .dataframe tbody tr th {\n",
       "        vertical-align: top;\n",
       "    }\n",
       "\n",
       "    .dataframe thead th {\n",
       "        text-align: right;\n",
       "    }\n",
       "</style>\n",
       "<table border=\"1\" class=\"dataframe\">\n",
       "  <thead>\n",
       "    <tr style=\"text-align: right;\">\n",
       "      <th></th>\n",
       "      <th>Id</th>\n",
       "      <th>Distance</th>\n",
       "      <th>manufacture_year</th>\n",
       "      <th>Age of car</th>\n",
       "      <th>engine_displacement</th>\n",
       "      <th>engine_power</th>\n",
       "      <th>Vroom Audit Rating</th>\n",
       "    </tr>\n",
       "  </thead>\n",
       "  <tbody>\n",
       "    <tr>\n",
       "      <th>count</th>\n",
       "      <td>5615.000000</td>\n",
       "      <td>5.487000e+03</td>\n",
       "      <td>5615.000000</td>\n",
       "      <td>5615.000000</td>\n",
       "      <td>5615.000000</td>\n",
       "      <td>5447.000000</td>\n",
       "      <td>5615.00000</td>\n",
       "    </tr>\n",
       "    <tr>\n",
       "      <th>mean</th>\n",
       "      <td>13808.000000</td>\n",
       "      <td>9.589009e+04</td>\n",
       "      <td>2010.487622</td>\n",
       "      <td>8.512378</td>\n",
       "      <td>1875.839003</td>\n",
       "      <td>99.474573</td>\n",
       "      <td>5.99537</td>\n",
       "    </tr>\n",
       "    <tr>\n",
       "      <th>std</th>\n",
       "      <td>1621.055212</td>\n",
       "      <td>3.088547e+05</td>\n",
       "      <td>4.737177</td>\n",
       "      <td>4.737177</td>\n",
       "      <td>1402.871783</td>\n",
       "      <td>45.483800</td>\n",
       "      <td>1.39901</td>\n",
       "    </tr>\n",
       "    <tr>\n",
       "      <th>min</th>\n",
       "      <td>11001.000000</td>\n",
       "      <td>0.000000e+00</td>\n",
       "      <td>1950.000000</td>\n",
       "      <td>3.000000</td>\n",
       "      <td>100.000000</td>\n",
       "      <td>10.000000</td>\n",
       "      <td>4.00000</td>\n",
       "    </tr>\n",
       "    <tr>\n",
       "      <th>25%</th>\n",
       "      <td>12404.500000</td>\n",
       "      <td>1.441000e+04</td>\n",
       "      <td>2008.000000</td>\n",
       "      <td>5.000000</td>\n",
       "      <td>1390.000000</td>\n",
       "      <td>73.000000</td>\n",
       "      <td>5.00000</td>\n",
       "    </tr>\n",
       "    <tr>\n",
       "      <th>50%</th>\n",
       "      <td>13808.000000</td>\n",
       "      <td>6.400000e+04</td>\n",
       "      <td>2012.000000</td>\n",
       "      <td>7.000000</td>\n",
       "      <td>1798.000000</td>\n",
       "      <td>88.000000</td>\n",
       "      <td>6.00000</td>\n",
       "    </tr>\n",
       "    <tr>\n",
       "      <th>75%</th>\n",
       "      <td>15211.500000</td>\n",
       "      <td>1.338490e+05</td>\n",
       "      <td>2014.000000</td>\n",
       "      <td>11.000000</td>\n",
       "      <td>1984.000000</td>\n",
       "      <td>125.000000</td>\n",
       "      <td>7.00000</td>\n",
       "    </tr>\n",
       "    <tr>\n",
       "      <th>max</th>\n",
       "      <td>16615.000000</td>\n",
       "      <td>9.143000e+06</td>\n",
       "      <td>2016.000000</td>\n",
       "      <td>69.000000</td>\n",
       "      <td>32000.000000</td>\n",
       "      <td>968.000000</td>\n",
       "      <td>8.00000</td>\n",
       "    </tr>\n",
       "  </tbody>\n",
       "</table>\n",
       "</div>"
      ],
      "text/plain": [
       "                 Id     Distance   manufacture_year   Age of car  \\\n",
       "count   5615.000000  5.487000e+03       5615.000000  5615.000000   \n",
       "mean   13808.000000  9.589009e+04       2010.487622     8.512378   \n",
       "std     1621.055212  3.088547e+05          4.737177     4.737177   \n",
       "min    11001.000000  0.000000e+00       1950.000000     3.000000   \n",
       "25%    12404.500000  1.441000e+04       2008.000000     5.000000   \n",
       "50%    13808.000000  6.400000e+04       2012.000000     7.000000   \n",
       "75%    15211.500000  1.338490e+05       2014.000000    11.000000   \n",
       "max    16615.000000  9.143000e+06       2016.000000    69.000000   \n",
       "\n",
       "       engine_displacement  engine_power  Vroom Audit Rating  \n",
       "count          5615.000000   5447.000000          5615.00000  \n",
       "mean           1875.839003     99.474573             5.99537  \n",
       "std            1402.871783     45.483800             1.39901  \n",
       "min             100.000000     10.000000             4.00000  \n",
       "25%            1390.000000     73.000000             5.00000  \n",
       "50%            1798.000000     88.000000             6.00000  \n",
       "75%            1984.000000    125.000000             7.00000  \n",
       "max           32000.000000    968.000000             8.00000  "
      ]
     },
     "execution_count": 7,
     "metadata": {},
     "output_type": "execute_result"
    }
   ],
   "source": [
    "df.describe()\n",
    "## describe the numerical data"
   ]
  },
  {
   "cell_type": "code",
   "execution_count": 8,
   "metadata": {},
   "outputs": [
    {
     "data": {
      "text/html": [
       "<div>\n",
       "<style scoped>\n",
       "    .dataframe tbody tr th:only-of-type {\n",
       "        vertical-align: middle;\n",
       "    }\n",
       "\n",
       "    .dataframe tbody tr th {\n",
       "        vertical-align: top;\n",
       "    }\n",
       "\n",
       "    .dataframe thead th {\n",
       "        text-align: right;\n",
       "    }\n",
       "</style>\n",
       "<table border=\"1\" class=\"dataframe\">\n",
       "  <thead>\n",
       "    <tr style=\"text-align: right;\">\n",
       "      <th></th>\n",
       "      <th>Maker</th>\n",
       "      <th>model</th>\n",
       "      <th>Location</th>\n",
       "      <th>Owner Type</th>\n",
       "      <th>body_type</th>\n",
       "      <th>transmission</th>\n",
       "      <th>door_count</th>\n",
       "      <th>seat_count</th>\n",
       "      <th>fuel_type</th>\n",
       "    </tr>\n",
       "  </thead>\n",
       "  <tbody>\n",
       "    <tr>\n",
       "      <th>count</th>\n",
       "      <td>5615</td>\n",
       "      <td>5615</td>\n",
       "      <td>5615</td>\n",
       "      <td>5615</td>\n",
       "      <td>422</td>\n",
       "      <td>5615</td>\n",
       "      <td>5615</td>\n",
       "      <td>5615</td>\n",
       "      <td>5615</td>\n",
       "    </tr>\n",
       "    <tr>\n",
       "      <th>unique</th>\n",
       "      <td>8</td>\n",
       "      <td>23</td>\n",
       "      <td>11</td>\n",
       "      <td>4</td>\n",
       "      <td>2</td>\n",
       "      <td>2</td>\n",
       "      <td>6</td>\n",
       "      <td>6</td>\n",
       "      <td>2</td>\n",
       "    </tr>\n",
       "    <tr>\n",
       "      <th>top</th>\n",
       "      <td>skoda</td>\n",
       "      <td>octavia</td>\n",
       "      <td>Kochi</td>\n",
       "      <td>First</td>\n",
       "      <td>compact</td>\n",
       "      <td>man</td>\n",
       "      <td>4</td>\n",
       "      <td>5</td>\n",
       "      <td>diesel</td>\n",
       "    </tr>\n",
       "    <tr>\n",
       "      <th>freq</th>\n",
       "      <td>2251</td>\n",
       "      <td>1333</td>\n",
       "      <td>538</td>\n",
       "      <td>1491</td>\n",
       "      <td>421</td>\n",
       "      <td>3893</td>\n",
       "      <td>3583</td>\n",
       "      <td>4100</td>\n",
       "      <td>2883</td>\n",
       "    </tr>\n",
       "  </tbody>\n",
       "</table>\n",
       "</div>"
      ],
      "text/plain": [
       "        Maker    model Location Owner Type body_type transmission door_count  \\\n",
       "count    5615     5615     5615       5615       422         5615       5615   \n",
       "unique      8       23       11          4         2            2          6   \n",
       "top     skoda  octavia    Kochi      First   compact          man          4   \n",
       "freq     2251     1333      538       1491       421         3893       3583   \n",
       "\n",
       "       seat_count fuel_type  \n",
       "count        5615      5615  \n",
       "unique          6         2  \n",
       "top             5    diesel  \n",
       "freq         4100      2883  "
      ]
     },
     "execution_count": 8,
     "metadata": {},
     "output_type": "execute_result"
    }
   ],
   "source": [
    "df.describe(include = object)\n",
    "## describe the categorical data"
   ]
  },
  {
   "cell_type": "markdown",
   "metadata": {},
   "source": [
    "#  CHECKING FOR NULL VALUES AND CHANGING DATA TYPES"
   ]
  },
  {
   "cell_type": "code",
   "execution_count": 9,
   "metadata": {},
   "outputs": [],
   "source": [
    "df.drop(columns=['Id','body_type'], inplace=True)"
   ]
  },
  {
   "cell_type": "code",
   "execution_count": 10,
   "metadata": {},
   "outputs": [],
   "source": [
    "df.columns = df.columns.str.strip()"
   ]
  },
  {
   "cell_type": "code",
   "execution_count": null,
   "metadata": {},
   "outputs": [],
   "source": []
  },
  {
   "cell_type": "code",
   "execution_count": 11,
   "metadata": {},
   "outputs": [],
   "source": [
    "# df[df.isnull().any(axis=1)]"
   ]
  },
  {
   "cell_type": "code",
   "execution_count": 12,
   "metadata": {},
   "outputs": [],
   "source": [
    "#door count - removing missing values and changing datatype\n",
    "df['door_count'].replace(to_replace='None', value=np.nan, inplace=True )\n",
    "df['door_count'].fillna(df.door_count.median(), inplace=True)\n",
    "df['door_count'] = df['door_count'].astype(int)"
   ]
  },
  {
   "cell_type": "code",
   "execution_count": 13,
   "metadata": {},
   "outputs": [],
   "source": [
    "#seat count -  removing missing values and changing datatype\n",
    "df['seat_count'].replace(to_replace='None', value=np.nan, inplace=True )\n",
    "df['seat_count'].fillna(df.seat_count.median(), inplace=True)\n",
    "df['seat_count'] = df['seat_count'].astype(int)\n"
   ]
  },
  {
   "cell_type": "code",
   "execution_count": 14,
   "metadata": {},
   "outputs": [
    {
     "data": {
      "text/plain": [
       "Maker                    0\n",
       "model                    0\n",
       "Location                 0\n",
       "Distance               128\n",
       "Owner Type               0\n",
       "manufacture_year         0\n",
       "Age of car               0\n",
       "engine_displacement      0\n",
       "engine_power           168\n",
       "Vroom Audit Rating       0\n",
       "transmission             0\n",
       "door_count               0\n",
       "seat_count               0\n",
       "fuel_type                0\n",
       "dtype: int64"
      ]
     },
     "execution_count": 14,
     "metadata": {},
     "output_type": "execute_result"
    }
   ],
   "source": [
    "df.isna().sum()\n"
   ]
  },
  {
   "cell_type": "code",
   "execution_count": 15,
   "metadata": {},
   "outputs": [],
   "source": [
    "df['Distance'].fillna(df['Distance'].median(), inplace=True)"
   ]
  },
  {
   "cell_type": "code",
   "execution_count": 16,
   "metadata": {},
   "outputs": [],
   "source": [
    "OHE_on_transmission = pd.get_dummies(df['transmission'])\n",
    "df = df.join(OHE_on_transmission)\n",
    "df.drop('transmission', axis=1, inplace =True)\n",
    "\n",
    "OHE_on_fuel = pd.get_dummies(df['fuel_type'])\n",
    "df = df.join(OHE_on_fuel)\n",
    "df.drop('fuel_type', axis=1, inplace =True)"
   ]
  },
  {
   "cell_type": "code",
   "execution_count": 17,
   "metadata": {},
   "outputs": [
    {
     "name": "stdout",
     "output_type": "stream",
     "text": [
      "<class 'pandas.core.frame.DataFrame'>\n",
      "RangeIndex: 5615 entries, 0 to 5614\n",
      "Data columns (total 16 columns):\n",
      " #   Column               Non-Null Count  Dtype  \n",
      "---  ------               --------------  -----  \n",
      " 0   Maker                5615 non-null   object \n",
      " 1   model                5615 non-null   object \n",
      " 2   Location             5615 non-null   object \n",
      " 3   Distance             5615 non-null   float64\n",
      " 4   Owner Type           5615 non-null   object \n",
      " 5   manufacture_year     5615 non-null   int64  \n",
      " 6   Age of car           5615 non-null   int64  \n",
      " 7   engine_displacement  5615 non-null   int64  \n",
      " 8   engine_power         5447 non-null   float64\n",
      " 9   Vroom Audit Rating   5615 non-null   int64  \n",
      " 10  door_count           5615 non-null   int32  \n",
      " 11  seat_count           5615 non-null   int32  \n",
      " 12  auto                 5615 non-null   uint8  \n",
      " 13  man                  5615 non-null   uint8  \n",
      " 14  diesel               5615 non-null   uint8  \n",
      " 15  petrol               5615 non-null   uint8  \n",
      "dtypes: float64(2), int32(2), int64(4), object(4), uint8(4)\n",
      "memory usage: 504.6+ KB\n"
     ]
    }
   ],
   "source": [
    "df.info()"
   ]
  },
  {
   "cell_type": "code",
   "execution_count": 18,
   "metadata": {},
   "outputs": [],
   "source": [
    "from sklearn.impute import KNNImputer\n",
    "df['engine_power'].replace(to_replace='', value=np.nan,inplace =True)\n",
    "\n",
    "imputer = KNNImputer(n_neighbors=2)\n",
    "df.loc[:,['engine_power']]=imputer.fit_transform(df.loc[:,['engine_power']])"
   ]
  },
  {
   "cell_type": "code",
   "execution_count": 19,
   "metadata": {},
   "outputs": [
    {
     "data": {
      "text/plain": [
       "Maker                  0\n",
       "model                  0\n",
       "Location               0\n",
       "Distance               0\n",
       "Owner Type             0\n",
       "manufacture_year       0\n",
       "Age of car             0\n",
       "engine_displacement    0\n",
       "engine_power           0\n",
       "Vroom Audit Rating     0\n",
       "door_count             0\n",
       "seat_count             0\n",
       "auto                   0\n",
       "man                    0\n",
       "diesel                 0\n",
       "petrol                 0\n",
       "dtype: int64"
      ]
     },
     "execution_count": 19,
     "metadata": {},
     "output_type": "execute_result"
    }
   ],
   "source": [
    "df.isna().sum()"
   ]
  },
  {
   "cell_type": "code",
   "execution_count": 66,
   "metadata": {},
   "outputs": [
    {
     "ename": "KeyError",
     "evalue": "\"['manufacture_year', 'man', 'petrol'] not found in axis\"",
     "output_type": "error",
     "traceback": [
      "\u001b[1;31m---------------------------------------------------------------------------\u001b[0m",
      "\u001b[1;31mKeyError\u001b[0m                                  Traceback (most recent call last)",
      "Cell \u001b[1;32mIn[66], line 1\u001b[0m\n\u001b[1;32m----> 1\u001b[0m \u001b[43mdf\u001b[49m\u001b[38;5;241;43m.\u001b[39;49m\u001b[43mdrop\u001b[49m\u001b[43m(\u001b[49m\u001b[43mcolumns\u001b[49m\u001b[38;5;241;43m=\u001b[39;49m\u001b[43m[\u001b[49m\u001b[38;5;124;43m'\u001b[39;49m\u001b[38;5;124;43mmanufacture_year\u001b[39;49m\u001b[38;5;124;43m'\u001b[39;49m\u001b[43m,\u001b[49m\u001b[38;5;124;43m'\u001b[39;49m\u001b[38;5;124;43mman\u001b[39;49m\u001b[38;5;124;43m'\u001b[39;49m\u001b[43m,\u001b[49m\u001b[38;5;124;43m'\u001b[39;49m\u001b[38;5;124;43mpetrol\u001b[39;49m\u001b[38;5;124;43m'\u001b[39;49m\u001b[43m]\u001b[49m\u001b[43m,\u001b[49m\u001b[43m \u001b[49m\u001b[43minplace\u001b[49m\u001b[38;5;241;43m=\u001b[39;49m\u001b[38;5;28;43;01mTrue\u001b[39;49;00m\u001b[43m)\u001b[49m\n",
      "File \u001b[1;32m~\\anaconda3\\lib\\site-packages\\pandas\\util\\_decorators.py:331\u001b[0m, in \u001b[0;36mdeprecate_nonkeyword_arguments.<locals>.decorate.<locals>.wrapper\u001b[1;34m(*args, **kwargs)\u001b[0m\n\u001b[0;32m    325\u001b[0m \u001b[38;5;28;01mif\u001b[39;00m \u001b[38;5;28mlen\u001b[39m(args) \u001b[38;5;241m>\u001b[39m num_allow_args:\n\u001b[0;32m    326\u001b[0m     warnings\u001b[38;5;241m.\u001b[39mwarn(\n\u001b[0;32m    327\u001b[0m         msg\u001b[38;5;241m.\u001b[39mformat(arguments\u001b[38;5;241m=\u001b[39m_format_argument_list(allow_args)),\n\u001b[0;32m    328\u001b[0m         \u001b[38;5;167;01mFutureWarning\u001b[39;00m,\n\u001b[0;32m    329\u001b[0m         stacklevel\u001b[38;5;241m=\u001b[39mfind_stack_level(),\n\u001b[0;32m    330\u001b[0m     )\n\u001b[1;32m--> 331\u001b[0m \u001b[38;5;28;01mreturn\u001b[39;00m func(\u001b[38;5;241m*\u001b[39margs, \u001b[38;5;241m*\u001b[39m\u001b[38;5;241m*\u001b[39mkwargs)\n",
      "File \u001b[1;32m~\\anaconda3\\lib\\site-packages\\pandas\\core\\frame.py:5399\u001b[0m, in \u001b[0;36mDataFrame.drop\u001b[1;34m(self, labels, axis, index, columns, level, inplace, errors)\u001b[0m\n\u001b[0;32m   5251\u001b[0m \u001b[38;5;129m@deprecate_nonkeyword_arguments\u001b[39m(version\u001b[38;5;241m=\u001b[39m\u001b[38;5;28;01mNone\u001b[39;00m, allowed_args\u001b[38;5;241m=\u001b[39m[\u001b[38;5;124m\"\u001b[39m\u001b[38;5;124mself\u001b[39m\u001b[38;5;124m\"\u001b[39m, \u001b[38;5;124m\"\u001b[39m\u001b[38;5;124mlabels\u001b[39m\u001b[38;5;124m\"\u001b[39m])\n\u001b[0;32m   5252\u001b[0m \u001b[38;5;28;01mdef\u001b[39;00m \u001b[38;5;21mdrop\u001b[39m(  \u001b[38;5;66;03m# type: ignore[override]\u001b[39;00m\n\u001b[0;32m   5253\u001b[0m     \u001b[38;5;28mself\u001b[39m,\n\u001b[1;32m   (...)\u001b[0m\n\u001b[0;32m   5260\u001b[0m     errors: IgnoreRaise \u001b[38;5;241m=\u001b[39m \u001b[38;5;124m\"\u001b[39m\u001b[38;5;124mraise\u001b[39m\u001b[38;5;124m\"\u001b[39m,\n\u001b[0;32m   5261\u001b[0m ) \u001b[38;5;241m-\u001b[39m\u001b[38;5;241m>\u001b[39m DataFrame \u001b[38;5;241m|\u001b[39m \u001b[38;5;28;01mNone\u001b[39;00m:\n\u001b[0;32m   5262\u001b[0m \u001b[38;5;250m    \u001b[39m\u001b[38;5;124;03m\"\"\"\u001b[39;00m\n\u001b[0;32m   5263\u001b[0m \u001b[38;5;124;03m    Drop specified labels from rows or columns.\u001b[39;00m\n\u001b[0;32m   5264\u001b[0m \n\u001b[1;32m   (...)\u001b[0m\n\u001b[0;32m   5397\u001b[0m \u001b[38;5;124;03m            weight  1.0     0.8\u001b[39;00m\n\u001b[0;32m   5398\u001b[0m \u001b[38;5;124;03m    \"\"\"\u001b[39;00m\n\u001b[1;32m-> 5399\u001b[0m     \u001b[38;5;28;01mreturn\u001b[39;00m \u001b[38;5;28;43msuper\u001b[39;49m\u001b[43m(\u001b[49m\u001b[43m)\u001b[49m\u001b[38;5;241;43m.\u001b[39;49m\u001b[43mdrop\u001b[49m\u001b[43m(\u001b[49m\n\u001b[0;32m   5400\u001b[0m \u001b[43m        \u001b[49m\u001b[43mlabels\u001b[49m\u001b[38;5;241;43m=\u001b[39;49m\u001b[43mlabels\u001b[49m\u001b[43m,\u001b[49m\n\u001b[0;32m   5401\u001b[0m \u001b[43m        \u001b[49m\u001b[43maxis\u001b[49m\u001b[38;5;241;43m=\u001b[39;49m\u001b[43maxis\u001b[49m\u001b[43m,\u001b[49m\n\u001b[0;32m   5402\u001b[0m \u001b[43m        \u001b[49m\u001b[43mindex\u001b[49m\u001b[38;5;241;43m=\u001b[39;49m\u001b[43mindex\u001b[49m\u001b[43m,\u001b[49m\n\u001b[0;32m   5403\u001b[0m \u001b[43m        \u001b[49m\u001b[43mcolumns\u001b[49m\u001b[38;5;241;43m=\u001b[39;49m\u001b[43mcolumns\u001b[49m\u001b[43m,\u001b[49m\n\u001b[0;32m   5404\u001b[0m \u001b[43m        \u001b[49m\u001b[43mlevel\u001b[49m\u001b[38;5;241;43m=\u001b[39;49m\u001b[43mlevel\u001b[49m\u001b[43m,\u001b[49m\n\u001b[0;32m   5405\u001b[0m \u001b[43m        \u001b[49m\u001b[43minplace\u001b[49m\u001b[38;5;241;43m=\u001b[39;49m\u001b[43minplace\u001b[49m\u001b[43m,\u001b[49m\n\u001b[0;32m   5406\u001b[0m \u001b[43m        \u001b[49m\u001b[43merrors\u001b[49m\u001b[38;5;241;43m=\u001b[39;49m\u001b[43merrors\u001b[49m\u001b[43m,\u001b[49m\n\u001b[0;32m   5407\u001b[0m \u001b[43m    \u001b[49m\u001b[43m)\u001b[49m\n",
      "File \u001b[1;32m~\\anaconda3\\lib\\site-packages\\pandas\\util\\_decorators.py:331\u001b[0m, in \u001b[0;36mdeprecate_nonkeyword_arguments.<locals>.decorate.<locals>.wrapper\u001b[1;34m(*args, **kwargs)\u001b[0m\n\u001b[0;32m    325\u001b[0m \u001b[38;5;28;01mif\u001b[39;00m \u001b[38;5;28mlen\u001b[39m(args) \u001b[38;5;241m>\u001b[39m num_allow_args:\n\u001b[0;32m    326\u001b[0m     warnings\u001b[38;5;241m.\u001b[39mwarn(\n\u001b[0;32m    327\u001b[0m         msg\u001b[38;5;241m.\u001b[39mformat(arguments\u001b[38;5;241m=\u001b[39m_format_argument_list(allow_args)),\n\u001b[0;32m    328\u001b[0m         \u001b[38;5;167;01mFutureWarning\u001b[39;00m,\n\u001b[0;32m    329\u001b[0m         stacklevel\u001b[38;5;241m=\u001b[39mfind_stack_level(),\n\u001b[0;32m    330\u001b[0m     )\n\u001b[1;32m--> 331\u001b[0m \u001b[38;5;28;01mreturn\u001b[39;00m func(\u001b[38;5;241m*\u001b[39margs, \u001b[38;5;241m*\u001b[39m\u001b[38;5;241m*\u001b[39mkwargs)\n",
      "File \u001b[1;32m~\\anaconda3\\lib\\site-packages\\pandas\\core\\generic.py:4505\u001b[0m, in \u001b[0;36mNDFrame.drop\u001b[1;34m(self, labels, axis, index, columns, level, inplace, errors)\u001b[0m\n\u001b[0;32m   4503\u001b[0m \u001b[38;5;28;01mfor\u001b[39;00m axis, labels \u001b[38;5;129;01min\u001b[39;00m axes\u001b[38;5;241m.\u001b[39mitems():\n\u001b[0;32m   4504\u001b[0m     \u001b[38;5;28;01mif\u001b[39;00m labels \u001b[38;5;129;01mis\u001b[39;00m \u001b[38;5;129;01mnot\u001b[39;00m \u001b[38;5;28;01mNone\u001b[39;00m:\n\u001b[1;32m-> 4505\u001b[0m         obj \u001b[38;5;241m=\u001b[39m \u001b[43mobj\u001b[49m\u001b[38;5;241;43m.\u001b[39;49m\u001b[43m_drop_axis\u001b[49m\u001b[43m(\u001b[49m\u001b[43mlabels\u001b[49m\u001b[43m,\u001b[49m\u001b[43m \u001b[49m\u001b[43maxis\u001b[49m\u001b[43m,\u001b[49m\u001b[43m \u001b[49m\u001b[43mlevel\u001b[49m\u001b[38;5;241;43m=\u001b[39;49m\u001b[43mlevel\u001b[49m\u001b[43m,\u001b[49m\u001b[43m \u001b[49m\u001b[43merrors\u001b[49m\u001b[38;5;241;43m=\u001b[39;49m\u001b[43merrors\u001b[49m\u001b[43m)\u001b[49m\n\u001b[0;32m   4507\u001b[0m \u001b[38;5;28;01mif\u001b[39;00m inplace:\n\u001b[0;32m   4508\u001b[0m     \u001b[38;5;28mself\u001b[39m\u001b[38;5;241m.\u001b[39m_update_inplace(obj)\n",
      "File \u001b[1;32m~\\anaconda3\\lib\\site-packages\\pandas\\core\\generic.py:4546\u001b[0m, in \u001b[0;36mNDFrame._drop_axis\u001b[1;34m(self, labels, axis, level, errors, only_slice)\u001b[0m\n\u001b[0;32m   4544\u001b[0m         new_axis \u001b[38;5;241m=\u001b[39m axis\u001b[38;5;241m.\u001b[39mdrop(labels, level\u001b[38;5;241m=\u001b[39mlevel, errors\u001b[38;5;241m=\u001b[39merrors)\n\u001b[0;32m   4545\u001b[0m     \u001b[38;5;28;01melse\u001b[39;00m:\n\u001b[1;32m-> 4546\u001b[0m         new_axis \u001b[38;5;241m=\u001b[39m \u001b[43maxis\u001b[49m\u001b[38;5;241;43m.\u001b[39;49m\u001b[43mdrop\u001b[49m\u001b[43m(\u001b[49m\u001b[43mlabels\u001b[49m\u001b[43m,\u001b[49m\u001b[43m \u001b[49m\u001b[43merrors\u001b[49m\u001b[38;5;241;43m=\u001b[39;49m\u001b[43merrors\u001b[49m\u001b[43m)\u001b[49m\n\u001b[0;32m   4547\u001b[0m     indexer \u001b[38;5;241m=\u001b[39m axis\u001b[38;5;241m.\u001b[39mget_indexer(new_axis)\n\u001b[0;32m   4549\u001b[0m \u001b[38;5;66;03m# Case for non-unique axis\u001b[39;00m\n\u001b[0;32m   4550\u001b[0m \u001b[38;5;28;01melse\u001b[39;00m:\n",
      "File \u001b[1;32m~\\anaconda3\\lib\\site-packages\\pandas\\core\\indexes\\base.py:6934\u001b[0m, in \u001b[0;36mIndex.drop\u001b[1;34m(self, labels, errors)\u001b[0m\n\u001b[0;32m   6932\u001b[0m \u001b[38;5;28;01mif\u001b[39;00m mask\u001b[38;5;241m.\u001b[39many():\n\u001b[0;32m   6933\u001b[0m     \u001b[38;5;28;01mif\u001b[39;00m errors \u001b[38;5;241m!=\u001b[39m \u001b[38;5;124m\"\u001b[39m\u001b[38;5;124mignore\u001b[39m\u001b[38;5;124m\"\u001b[39m:\n\u001b[1;32m-> 6934\u001b[0m         \u001b[38;5;28;01mraise\u001b[39;00m \u001b[38;5;167;01mKeyError\u001b[39;00m(\u001b[38;5;124mf\u001b[39m\u001b[38;5;124m\"\u001b[39m\u001b[38;5;132;01m{\u001b[39;00m\u001b[38;5;28mlist\u001b[39m(labels[mask])\u001b[38;5;132;01m}\u001b[39;00m\u001b[38;5;124m not found in axis\u001b[39m\u001b[38;5;124m\"\u001b[39m)\n\u001b[0;32m   6935\u001b[0m     indexer \u001b[38;5;241m=\u001b[39m indexer[\u001b[38;5;241m~\u001b[39mmask]\n\u001b[0;32m   6936\u001b[0m \u001b[38;5;28;01mreturn\u001b[39;00m \u001b[38;5;28mself\u001b[39m\u001b[38;5;241m.\u001b[39mdelete(indexer)\n",
      "\u001b[1;31mKeyError\u001b[0m: \"['manufacture_year', 'man', 'petrol'] not found in axis\""
     ]
    }
   ],
   "source": [
    "df.drop(columns=['manufacture_year','man','petrol'], inplace=True)"
   ]
  },
  {
   "cell_type": "markdown",
   "metadata": {},
   "source": [
    "#  HANDLING CATEGORICAL FEATURES"
   ]
  },
  {
   "cell_type": "code",
   "execution_count": 21,
   "metadata": {},
   "outputs": [
    {
     "data": {
      "text/plain": [
       "(count      5615\n",
       " unique        8\n",
       " top       skoda\n",
       " freq       2251\n",
       " Name: Maker, dtype: object,\n",
       " array(['skoda', 'audi', 'bmw', 'toyota', 'nissan', 'fiat', 'hyundai',\n",
       "        'maserati'], dtype=object))"
      ]
     },
     "execution_count": 21,
     "metadata": {},
     "output_type": "execute_result"
    }
   ],
   "source": [
    "df['Maker'].describe(),df['Maker'].unique()\n"
   ]
  },
  {
   "cell_type": "code",
   "execution_count": 22,
   "metadata": {},
   "outputs": [
    {
     "name": "stdout",
     "output_type": "stream",
     "text": [
      "<class 'pandas.core.frame.DataFrame'>\n",
      "RangeIndex: 5615 entries, 0 to 5614\n",
      "Data columns (total 13 columns):\n",
      " #   Column               Non-Null Count  Dtype  \n",
      "---  ------               --------------  -----  \n",
      " 0   Maker                5615 non-null   object \n",
      " 1   model                5615 non-null   object \n",
      " 2   Location             5615 non-null   object \n",
      " 3   Distance             5615 non-null   float64\n",
      " 4   Owner Type           5615 non-null   object \n",
      " 5   Age of car           5615 non-null   int64  \n",
      " 6   engine_displacement  5615 non-null   int64  \n",
      " 7   engine_power         5615 non-null   float64\n",
      " 8   Vroom Audit Rating   5615 non-null   int64  \n",
      " 9   door_count           5615 non-null   int32  \n",
      " 10  seat_count           5615 non-null   int32  \n",
      " 11  auto                 5615 non-null   uint8  \n",
      " 12  diesel               5615 non-null   uint8  \n",
      "dtypes: float64(2), int32(2), int64(3), object(4), uint8(2)\n",
      "memory usage: 449.8+ KB\n"
     ]
    }
   ],
   "source": [
    "df.info()"
   ]
  },
  {
   "cell_type": "code",
   "execution_count": 23,
   "metadata": {},
   "outputs": [],
   "source": [
    "encode_owners = LabelEncoder()\n",
    "encode_owners.classes = ['First','Second','Third','Fourth & Above']\n",
    "owners = np.asarray(df['Owner Type'])\n",
    "owners_order = encode_owners.fit_transform(owners)"
   ]
  },
  {
   "cell_type": "code",
   "execution_count": 24,
   "metadata": {},
   "outputs": [
    {
     "data": {
      "text/plain": [
       "['First', 'Second', 'Third', 'Fourth & Above']"
      ]
     },
     "execution_count": 24,
     "metadata": {},
     "output_type": "execute_result"
    }
   ],
   "source": [
    "encode_owners.classes"
   ]
  },
  {
   "cell_type": "code",
   "execution_count": 25,
   "metadata": {},
   "outputs": [],
   "source": [
    "df['Owner Type'] = owners_order"
   ]
  },
  {
   "cell_type": "code",
   "execution_count": 26,
   "metadata": {},
   "outputs": [
    {
     "name": "stdout",
     "output_type": "stream",
     "text": [
      "<class 'pandas.core.frame.DataFrame'>\n",
      "RangeIndex: 5615 entries, 0 to 5614\n",
      "Data columns (total 13 columns):\n",
      " #   Column               Non-Null Count  Dtype  \n",
      "---  ------               --------------  -----  \n",
      " 0   Maker                5615 non-null   object \n",
      " 1   model                5615 non-null   object \n",
      " 2   Location             5615 non-null   object \n",
      " 3   Distance             5615 non-null   float64\n",
      " 4   Owner Type           5615 non-null   int32  \n",
      " 5   Age of car           5615 non-null   int64  \n",
      " 6   engine_displacement  5615 non-null   int64  \n",
      " 7   engine_power         5615 non-null   float64\n",
      " 8   Vroom Audit Rating   5615 non-null   int64  \n",
      " 9   door_count           5615 non-null   int32  \n",
      " 10  seat_count           5615 non-null   int32  \n",
      " 11  auto                 5615 non-null   uint8  \n",
      " 12  diesel               5615 non-null   uint8  \n",
      "dtypes: float64(2), int32(3), int64(3), object(3), uint8(2)\n",
      "memory usage: 427.8+ KB\n"
     ]
    }
   ],
   "source": [
    "df.info()"
   ]
  },
  {
   "cell_type": "code",
   "execution_count": 27,
   "metadata": {},
   "outputs": [],
   "source": [
    "# df.drop(columns=['Price']).skew()"
   ]
  },
  {
   "cell_type": "code",
   "execution_count": 28,
   "metadata": {},
   "outputs": [],
   "source": [
    "encode_model = LabelEncoder()\n",
    "\n",
    "model = np.asarray(df['model'])\n",
    "models_order = encode_model.fit_transform(model)\n",
    "df['model'] = models_order"
   ]
  },
  {
   "cell_type": "code",
   "execution_count": 29,
   "metadata": {},
   "outputs": [],
   "source": [
    "encode_makers = LabelEncoder()\n",
    "\n",
    "makers = np.asarray(df['Maker'])\n",
    "makers_order = encode_makers.fit_transform(makers)\n",
    "df['Maker'] = makers_order"
   ]
  },
  {
   "cell_type": "code",
   "execution_count": 30,
   "metadata": {},
   "outputs": [],
   "source": [
    "encode_location = LabelEncoder()\n",
    "\n",
    "locations = np.asarray(df['Location'])\n",
    "locations_order = encode_location.fit_transform(locations)\n",
    "df['Location'] = locations_order"
   ]
  },
  {
   "cell_type": "code",
   "execution_count": 31,
   "metadata": {},
   "outputs": [],
   "source": [
    "df = df.drop('Location', axis=1)"
   ]
  },
  {
   "cell_type": "code",
   "execution_count": 32,
   "metadata": {},
   "outputs": [
    {
     "name": "stdout",
     "output_type": "stream",
     "text": [
      "<class 'pandas.core.frame.DataFrame'>\n",
      "RangeIndex: 5615 entries, 0 to 5614\n",
      "Data columns (total 12 columns):\n",
      " #   Column               Non-Null Count  Dtype  \n",
      "---  ------               --------------  -----  \n",
      " 0   Maker                5615 non-null   int32  \n",
      " 1   model                5615 non-null   int32  \n",
      " 2   Distance             5615 non-null   float64\n",
      " 3   Owner Type           5615 non-null   int32  \n",
      " 4   Age of car           5615 non-null   int64  \n",
      " 5   engine_displacement  5615 non-null   int64  \n",
      " 6   engine_power         5615 non-null   float64\n",
      " 7   Vroom Audit Rating   5615 non-null   int64  \n",
      " 8   door_count           5615 non-null   int32  \n",
      " 9   seat_count           5615 non-null   int32  \n",
      " 10  auto                 5615 non-null   uint8  \n",
      " 11  diesel               5615 non-null   uint8  \n",
      "dtypes: float64(2), int32(5), int64(3), uint8(2)\n",
      "memory usage: 340.1 KB\n"
     ]
    }
   ],
   "source": [
    "df.info()"
   ]
  },
  {
   "cell_type": "code",
   "execution_count": 33,
   "metadata": {},
   "outputs": [
    {
     "data": {
      "text/plain": [
       "Maker                  -0.699531\n",
       "model                   0.148716\n",
       "Distance               21.339748\n",
       "Owner Type              0.031997\n",
       "Age of car              2.151669\n",
       "engine_displacement    13.087956\n",
       "engine_power            2.707252\n",
       "Vroom Audit Rating      0.005117\n",
       "door_count             -1.507222\n",
       "seat_count             -2.071220\n",
       "auto                    0.838720\n",
       "diesel                 -0.053818\n",
       "dtype: float64"
      ]
     },
     "execution_count": 33,
     "metadata": {},
     "output_type": "execute_result"
    }
   ],
   "source": [
    "df.skew()"
   ]
  },
  {
   "cell_type": "code",
   "execution_count": 34,
   "metadata": {},
   "outputs": [
    {
     "data": {
      "image/png": "[encoded data removed]",
      "text/plain": [
       "<Figure size 640x480 with 1 Axes>"
      ]
     },
     "metadata": {},
     "output_type": "display_data"
    },
    {
     "data": {
      "image/png": "[encoded data removed]",
      "text/plain": [
       "<Figure size 640x480 with 1 Axes>"
      ]
     },
     "metadata": {},
     "output_type": "display_data"
    },
    {
     "data": {
      "image/png": "[encoded data removed]",
      "text/plain": [
       "<Figure size 640x480 with 1 Axes>"
      ]
     },
     "metadata": {},
     "output_type": "display_data"
    },
    {
     "data": {
      "image/png": "[encoded data removed]",
      "text/plain": [
       "<Figure size 640x480 with 1 Axes>"
      ]
     },
     "metadata": {},
     "output_type": "display_data"
    },
    {
     "data": {
      "image/png": "[encoded data removed]",
      "text/plain": [
       "<Figure size 640x480 with 1 Axes>"
      ]
     },
     "metadata": {},
     "output_type": "display_data"
    },
    {
     "data": {
      "image/png": "[encoded data removed]",
      "text/plain": [
       "<Figure size 640x480 with 1 Axes>"
      ]
     },
     "metadata": {},
     "output_type": "display_data"
    },
    {
     "data": {
      "image/png": "[encoded data removed]",
      "text/plain": [
       "<Figure size 640x480 with 1 Axes>"
      ]
     },
     "metadata": {},
     "output_type": "display_data"
    },
    {
     "data": {
      "image/png": "[encoded data removed]",
      "text/plain": [
       "<Figure size 640x480 with 1 Axes>"
      ]
     },
     "metadata": {},
     "output_type": "display_data"
    },
    {
     "data": {
      "image/png": "[encoded data removed]",
      "text/plain": [
       "<Figure size 640x480 with 1 Axes>"
      ]
     },
     "metadata": {},
     "output_type": "display_data"
    },
    {
     "data": {
      "image/png": "[encoded data removed]",
      "text/plain": [
       "<Figure size 640x480 with 1 Axes>"
      ]
     },
     "metadata": {},
     "output_type": "display_data"
    },
    {
     "data": {
      "image/png": "[encoded data removed]",
      "text/plain": [
       "<Figure size 640x480 with 1 Axes>"
      ]
     },
     "metadata": {},
     "output_type": "display_data"
    },
    {
     "data": {
      "image/png": "[encoded data removed]",
      "text/plain": [
       "<Figure size 640x480 with 1 Axes>"
      ]
     },
     "metadata": {},
     "output_type": "display_data"
    }
   ],
   "source": [
    "df_num = df.select_dtypes(include=np.number)\n",
    "df_num.head(2)\n",
    "\n",
    "for i in df_num:\n",
    "    sns.boxplot(df_num[i])\n",
    "    plt.show()"
   ]
  },
  {
   "cell_type": "code",
   "execution_count": 35,
   "metadata": {},
   "outputs": [
    {
     "data": {
      "text/plain": [
       "(             Maker        model      Distance   Owner Type   Age of car  \\\n",
       " count  5615.000000  5615.000000  5.615000e+03  5615.000000  5615.000000   \n",
       " mean      4.336955    11.123419  9.516312e+04     1.475512     8.512378   \n",
       " std       2.531261     6.131841  3.053505e+05     1.133138     4.737177   \n",
       " min       0.000000     0.000000  0.000000e+00     0.000000     3.000000   \n",
       " 25%       1.000000     8.000000  1.532500e+04     0.000000     5.000000   \n",
       " 50%       6.000000     9.000000  6.400000e+04     1.000000     7.000000   \n",
       " 75%       6.000000    16.000000  1.310000e+05     3.000000    11.000000   \n",
       " max       7.000000    22.000000  9.143000e+06     3.000000    69.000000   \n",
       " \n",
       "        engine_displacement  engine_power  Vroom Audit Rating   door_count  \\\n",
       " count          5615.000000   5615.000000          5615.00000  5615.000000   \n",
       " mean           1875.839003     99.474573             5.99537     3.981478   \n",
       " std            1402.871783     44.798075             1.39901     0.669993   \n",
       " min             100.000000     10.000000             4.00000     2.000000   \n",
       " 25%            1390.000000     73.000000             5.00000     4.000000   \n",
       " 50%            1798.000000     92.000000             6.00000     4.000000   \n",
       " 75%            1984.000000    120.000000             7.00000     4.000000   \n",
       " max           32000.000000    968.000000             8.00000     6.000000   \n",
       " \n",
       "         seat_count         auto       diesel  \n",
       " count  5615.000000  5615.000000  5615.000000  \n",
       " mean      4.903117     0.306679     0.513446  \n",
       " std       0.512282     0.461156     0.499864  \n",
       " min       2.000000     0.000000     0.000000  \n",
       " 25%       5.000000     0.000000     0.000000  \n",
       " 50%       5.000000     0.000000     1.000000  \n",
       " 75%       5.000000     1.000000     1.000000  \n",
       " max       7.000000     1.000000     1.000000  ,\n",
       " Maker                  0\n",
       " model                  0\n",
       " Distance               0\n",
       " Owner Type             0\n",
       " Age of car             0\n",
       " engine_displacement    0\n",
       " engine_power           0\n",
       " Vroom Audit Rating     0\n",
       " door_count             0\n",
       " seat_count             0\n",
       " auto                   0\n",
       " diesel                 0\n",
       " dtype: int64)"
      ]
     },
     "execution_count": 35,
     "metadata": {},
     "output_type": "execute_result"
    }
   ],
   "source": [
    "df.describe(), df.isna().sum()"
   ]
  },
  {
   "cell_type": "code",
   "execution_count": 36,
   "metadata": {},
   "outputs": [],
   "source": [
    "# dfc = df.drop(columns=['Price']).copy()\n",
    "# # dfc1 = dfc.copy()"
   ]
  },
  {
   "cell_type": "code",
   "execution_count": 37,
   "metadata": {},
   "outputs": [],
   "source": [
    "dfc = df.copy()"
   ]
  },
  {
   "cell_type": "code",
   "execution_count": 38,
   "metadata": {},
   "outputs": [
    {
     "data": {
      "image/png": "[encoded data removed]",
      "text/plain": [
       "<Figure size 640x480 with 1 Axes>"
      ]
     },
     "metadata": {},
     "output_type": "display_data"
    },
    {
     "data": {
      "image/png": "[encoded data removed]",
      "text/plain": [
       "<Figure size 640x480 with 1 Axes>"
      ]
     },
     "metadata": {},
     "output_type": "display_data"
    },
    {
     "data": {
      "image/png": "[encoded data removed]",
      "text/plain": [
       "<Figure size 640x480 with 1 Axes>"
      ]
     },
     "metadata": {},
     "output_type": "display_data"
    },
    {
     "data": {
      "image/png": "[encoded data removed]",
      "text/plain": [
       "<Figure size 640x480 with 1 Axes>"
      ]
     },
     "metadata": {},
     "output_type": "display_data"
    },
    {
     "data": {
      "image/png": "[encoded data removed]",
      "text/plain": [
       "<Figure size 640x480 with 1 Axes>"
      ]
     },
     "metadata": {},
     "output_type": "display_data"
    },
    {
     "data": {
      "image/png": "[encoded data removed]",
      "text/plain": [
       "<Figure size 640x480 with 1 Axes>"
      ]
     },
     "metadata": {},
     "output_type": "display_data"
    },
    {
     "data": {
      "image/png": "[encoded data removed]",
      "text/plain": [
       "<Figure size 640x480 with 1 Axes>"
      ]
     },
     "metadata": {},
     "output_type": "display_data"
    },
    {
     "data": {
      "image/png": "[encoded data removed]",
      "text/plain": [
       "<Figure size 640x480 with 1 Axes>"
      ]
     },
     "metadata": {},
     "output_type": "display_data"
    },
    {
     "data": {
      "image/png": "[encoded data removed]",
      "text/plain": [
       "<Figure size 640x480 with 1 Axes>"
      ]
     },
     "metadata": {},
     "output_type": "display_data"
    },
    {
     "data": {
      "image/png": "[encoded data removed]",
      "text/plain": [
       "<Figure size 640x480 with 1 Axes>"
      ]
     },
     "metadata": {},
     "output_type": "display_data"
    },
    {
     "data": {
      "image/png": "[encoded data removed]",
      "text/plain": [
       "<Figure size 640x480 with 1 Axes>"
      ]
     },
     "metadata": {},
     "output_type": "display_data"
    },
    {
     "data": {
      "image/png": "[encoded data removed]",
      "text/plain": [
       "<Figure size 640x480 with 1 Axes>"
      ]
     },
     "metadata": {},
     "output_type": "display_data"
    }
   ],
   "source": [
    "Q1 = dfc.quantile(0.10) #25\n",
    "Q3 = dfc.quantile(0.90) #75\n",
    "IQR = Q3 - Q1\n",
    "\n",
    "df_out = dfc[-((dfc < (Q1 - 1.5 * IQR)) | (dfc > (Q3 + 1.5 * IQR))).any(axis = 1)]\n",
    "df_num1 = df_out.select_dtypes(include = np.number)\n",
    "for i in df_num1:\n",
    "    sns.boxplot(df_num1[i])\n",
    "    plt.show()"
   ]
  },
  {
   "cell_type": "code",
   "execution_count": 39,
   "metadata": {},
   "outputs": [],
   "source": [
    "# dfc = dfc.join(df['Price'])"
   ]
  },
  {
   "cell_type": "code",
   "execution_count": 40,
   "metadata": {},
   "outputs": [],
   "source": [
    "# dfc.drop(columns=['door_count','seat_count'], inplace=True)"
   ]
  },
  {
   "cell_type": "code",
   "execution_count": 41,
   "metadata": {},
   "outputs": [
    {
     "data": {
      "text/html": [
       "<div>\n",
       "<style scoped>\n",
       "    .dataframe tbody tr th:only-of-type {\n",
       "        vertical-align: middle;\n",
       "    }\n",
       "\n",
       "    .dataframe tbody tr th {\n",
       "        vertical-align: top;\n",
       "    }\n",
       "\n",
       "    .dataframe thead th {\n",
       "        text-align: right;\n",
       "    }\n",
       "</style>\n",
       "<table border=\"1\" class=\"dataframe\">\n",
       "  <thead>\n",
       "    <tr style=\"text-align: right;\">\n",
       "      <th></th>\n",
       "      <th>Maker</th>\n",
       "      <th>model</th>\n",
       "      <th>Distance</th>\n",
       "      <th>Owner Type</th>\n",
       "      <th>Age of car</th>\n",
       "      <th>engine_displacement</th>\n",
       "      <th>engine_power</th>\n",
       "      <th>Vroom Audit Rating</th>\n",
       "      <th>door_count</th>\n",
       "      <th>seat_count</th>\n",
       "      <th>auto</th>\n",
       "      <th>diesel</th>\n",
       "    </tr>\n",
       "  </thead>\n",
       "  <tbody>\n",
       "    <tr>\n",
       "      <th>0</th>\n",
       "      <td>6</td>\n",
       "      <td>8</td>\n",
       "      <td>150000.0</td>\n",
       "      <td>0</td>\n",
       "      <td>12</td>\n",
       "      <td>1595</td>\n",
       "      <td>75.0</td>\n",
       "      <td>5</td>\n",
       "      <td>4</td>\n",
       "      <td>5</td>\n",
       "      <td>0</td>\n",
       "      <td>0</td>\n",
       "    </tr>\n",
       "    <tr>\n",
       "      <th>1</th>\n",
       "      <td>6</td>\n",
       "      <td>14</td>\n",
       "      <td>29376.0</td>\n",
       "      <td>3</td>\n",
       "      <td>5</td>\n",
       "      <td>1598</td>\n",
       "      <td>77.0</td>\n",
       "      <td>4</td>\n",
       "      <td>4</td>\n",
       "      <td>5</td>\n",
       "      <td>0</td>\n",
       "      <td>1</td>\n",
       "    </tr>\n",
       "    <tr>\n",
       "      <th>2</th>\n",
       "      <td>6</td>\n",
       "      <td>8</td>\n",
       "      <td>30563.0</td>\n",
       "      <td>2</td>\n",
       "      <td>5</td>\n",
       "      <td>1968</td>\n",
       "      <td>110.0</td>\n",
       "      <td>5</td>\n",
       "      <td>5</td>\n",
       "      <td>5</td>\n",
       "      <td>0</td>\n",
       "      <td>1</td>\n",
       "    </tr>\n",
       "    <tr>\n",
       "      <th>3</th>\n",
       "      <td>0</td>\n",
       "      <td>10</td>\n",
       "      <td>8650.0</td>\n",
       "      <td>1</td>\n",
       "      <td>4</td>\n",
       "      <td>1968</td>\n",
       "      <td>110.0</td>\n",
       "      <td>8</td>\n",
       "      <td>4</td>\n",
       "      <td>5</td>\n",
       "      <td>1</td>\n",
       "      <td>1</td>\n",
       "    </tr>\n",
       "    <tr>\n",
       "      <th>4</th>\n",
       "      <td>0</td>\n",
       "      <td>17</td>\n",
       "      <td>6400.0</td>\n",
       "      <td>3</td>\n",
       "      <td>4</td>\n",
       "      <td>1984</td>\n",
       "      <td>169.0</td>\n",
       "      <td>4</td>\n",
       "      <td>2</td>\n",
       "      <td>5</td>\n",
       "      <td>1</td>\n",
       "      <td>0</td>\n",
       "    </tr>\n",
       "    <tr>\n",
       "      <th>...</th>\n",
       "      <td>...</td>\n",
       "      <td>...</td>\n",
       "      <td>...</td>\n",
       "      <td>...</td>\n",
       "      <td>...</td>\n",
       "      <td>...</td>\n",
       "      <td>...</td>\n",
       "      <td>...</td>\n",
       "      <td>...</td>\n",
       "      <td>...</td>\n",
       "      <td>...</td>\n",
       "      <td>...</td>\n",
       "    </tr>\n",
       "    <tr>\n",
       "      <th>5610</th>\n",
       "      <td>6</td>\n",
       "      <td>8</td>\n",
       "      <td>149976.0</td>\n",
       "      <td>0</td>\n",
       "      <td>8</td>\n",
       "      <td>1968</td>\n",
       "      <td>103.0</td>\n",
       "      <td>8</td>\n",
       "      <td>4</td>\n",
       "      <td>5</td>\n",
       "      <td>0</td>\n",
       "      <td>1</td>\n",
       "    </tr>\n",
       "    <tr>\n",
       "      <th>5611</th>\n",
       "      <td>6</td>\n",
       "      <td>16</td>\n",
       "      <td>332000.0</td>\n",
       "      <td>0</td>\n",
       "      <td>14</td>\n",
       "      <td>1896</td>\n",
       "      <td>96.0</td>\n",
       "      <td>6</td>\n",
       "      <td>4</td>\n",
       "      <td>5</td>\n",
       "      <td>0</td>\n",
       "      <td>1</td>\n",
       "    </tr>\n",
       "    <tr>\n",
       "      <th>5612</th>\n",
       "      <td>6</td>\n",
       "      <td>8</td>\n",
       "      <td>230800.0</td>\n",
       "      <td>2</td>\n",
       "      <td>14</td>\n",
       "      <td>1896</td>\n",
       "      <td>77.0</td>\n",
       "      <td>7</td>\n",
       "      <td>5</td>\n",
       "      <td>5</td>\n",
       "      <td>0</td>\n",
       "      <td>1</td>\n",
       "    </tr>\n",
       "    <tr>\n",
       "      <th>5613</th>\n",
       "      <td>5</td>\n",
       "      <td>13</td>\n",
       "      <td>63480.0</td>\n",
       "      <td>3</td>\n",
       "      <td>8</td>\n",
       "      <td>1997</td>\n",
       "      <td>104.0</td>\n",
       "      <td>5</td>\n",
       "      <td>4</td>\n",
       "      <td>7</td>\n",
       "      <td>0</td>\n",
       "      <td>0</td>\n",
       "    </tr>\n",
       "    <tr>\n",
       "      <th>5614</th>\n",
       "      <td>3</td>\n",
       "      <td>5</td>\n",
       "      <td>75000.0</td>\n",
       "      <td>2</td>\n",
       "      <td>8</td>\n",
       "      <td>1396</td>\n",
       "      <td>80.0</td>\n",
       "      <td>4</td>\n",
       "      <td>4</td>\n",
       "      <td>5</td>\n",
       "      <td>0</td>\n",
       "      <td>0</td>\n",
       "    </tr>\n",
       "  </tbody>\n",
       "</table>\n",
       "<p>5615 rows × 12 columns</p>\n",
       "</div>"
      ],
      "text/plain": [
       "      Maker  model  Distance  Owner Type  Age of car  engine_displacement  \\\n",
       "0         6      8  150000.0           0          12                 1595   \n",
       "1         6     14   29376.0           3           5                 1598   \n",
       "2         6      8   30563.0           2           5                 1968   \n",
       "3         0     10    8650.0           1           4                 1968   \n",
       "4         0     17    6400.0           3           4                 1984   \n",
       "...     ...    ...       ...         ...         ...                  ...   \n",
       "5610      6      8  149976.0           0           8                 1968   \n",
       "5611      6     16  332000.0           0          14                 1896   \n",
       "5612      6      8  230800.0           2          14                 1896   \n",
       "5613      5     13   63480.0           3           8                 1997   \n",
       "5614      3      5   75000.0           2           8                 1396   \n",
       "\n",
       "      engine_power  Vroom Audit Rating  door_count  seat_count  auto  diesel  \n",
       "0             75.0                   5           4           5     0       0  \n",
       "1             77.0                   4           4           5     0       1  \n",
       "2            110.0                   5           5           5     0       1  \n",
       "3            110.0                   8           4           5     1       1  \n",
       "4            169.0                   4           2           5     1       0  \n",
       "...            ...                 ...         ...         ...   ...     ...  \n",
       "5610         103.0                   8           4           5     0       1  \n",
       "5611          96.0                   6           4           5     0       1  \n",
       "5612          77.0                   7           5           5     0       1  \n",
       "5613         104.0                   5           4           7     0       0  \n",
       "5614          80.0                   4           4           5     0       0  \n",
       "\n",
       "[5615 rows x 12 columns]"
      ]
     },
     "execution_count": 41,
     "metadata": {},
     "output_type": "execute_result"
    }
   ],
   "source": [
    "dfc"
   ]
  },
  {
   "cell_type": "code",
   "execution_count": null,
   "metadata": {},
   "outputs": [],
   "source": []
  },
  {
   "cell_type": "code",
   "execution_count": 42,
   "metadata": {},
   "outputs": [
    {
     "data": {
      "text/plain": [
       "<Axes: >"
      ]
     },
     "execution_count": 42,
     "metadata": {},
     "output_type": "execute_result"
    },
    {
     "data": {
      "image/png": "[encoded data removed]",
      "text/plain": [
       "<Figure size 1000x1000 with 2 Axes>"
      ]
     },
     "metadata": {},
     "output_type": "display_data"
    }
   ],
   "source": [
    "fig, ax = plt.subplots(figsize =(10,10))\n",
    "sns.heatmap(dfc.corr(), annot=True, linewidth = .5,ax=ax, cmap='Blues', vmax=1.0, vmin= -1.0)\n"
   ]
  },
  {
   "cell_type": "code",
   "execution_count": 43,
   "metadata": {},
   "outputs": [
    {
     "data": {
      "text/html": [
       "<div>\n",
       "<style scoped>\n",
       "    .dataframe tbody tr th:only-of-type {\n",
       "        vertical-align: middle;\n",
       "    }\n",
       "\n",
       "    .dataframe tbody tr th {\n",
       "        vertical-align: top;\n",
       "    }\n",
       "\n",
       "    .dataframe thead th {\n",
       "        text-align: right;\n",
       "    }\n",
       "</style>\n",
       "<table border=\"1\" class=\"dataframe\">\n",
       "  <thead>\n",
       "    <tr style=\"text-align: right;\">\n",
       "      <th></th>\n",
       "      <th>Maker</th>\n",
       "      <th>model</th>\n",
       "      <th>Distance</th>\n",
       "      <th>Owner Type</th>\n",
       "      <th>Age of car</th>\n",
       "      <th>engine_displacement</th>\n",
       "      <th>engine_power</th>\n",
       "      <th>Vroom Audit Rating</th>\n",
       "      <th>door_count</th>\n",
       "      <th>seat_count</th>\n",
       "      <th>auto</th>\n",
       "      <th>diesel</th>\n",
       "    </tr>\n",
       "  </thead>\n",
       "  <tbody>\n",
       "    <tr>\n",
       "      <th>count</th>\n",
       "      <td>5615.000000</td>\n",
       "      <td>5615.000000</td>\n",
       "      <td>5.615000e+03</td>\n",
       "      <td>5615.000000</td>\n",
       "      <td>5615.000000</td>\n",
       "      <td>5615.000000</td>\n",
       "      <td>5615.000000</td>\n",
       "      <td>5615.00000</td>\n",
       "      <td>5615.000000</td>\n",
       "      <td>5615.000000</td>\n",
       "      <td>5615.000000</td>\n",
       "      <td>5615.000000</td>\n",
       "    </tr>\n",
       "    <tr>\n",
       "      <th>mean</th>\n",
       "      <td>4.336955</td>\n",
       "      <td>11.123419</td>\n",
       "      <td>9.516312e+04</td>\n",
       "      <td>1.475512</td>\n",
       "      <td>8.512378</td>\n",
       "      <td>1875.839003</td>\n",
       "      <td>99.474573</td>\n",
       "      <td>5.99537</td>\n",
       "      <td>3.981478</td>\n",
       "      <td>4.903117</td>\n",
       "      <td>0.306679</td>\n",
       "      <td>0.513446</td>\n",
       "    </tr>\n",
       "    <tr>\n",
       "      <th>std</th>\n",
       "      <td>2.531261</td>\n",
       "      <td>6.131841</td>\n",
       "      <td>3.053505e+05</td>\n",
       "      <td>1.133138</td>\n",
       "      <td>4.737177</td>\n",
       "      <td>1402.871783</td>\n",
       "      <td>44.798075</td>\n",
       "      <td>1.39901</td>\n",
       "      <td>0.669993</td>\n",
       "      <td>0.512282</td>\n",
       "      <td>0.461156</td>\n",
       "      <td>0.499864</td>\n",
       "    </tr>\n",
       "    <tr>\n",
       "      <th>min</th>\n",
       "      <td>0.000000</td>\n",
       "      <td>0.000000</td>\n",
       "      <td>0.000000e+00</td>\n",
       "      <td>0.000000</td>\n",
       "      <td>3.000000</td>\n",
       "      <td>100.000000</td>\n",
       "      <td>10.000000</td>\n",
       "      <td>4.00000</td>\n",
       "      <td>2.000000</td>\n",
       "      <td>2.000000</td>\n",
       "      <td>0.000000</td>\n",
       "      <td>0.000000</td>\n",
       "    </tr>\n",
       "    <tr>\n",
       "      <th>25%</th>\n",
       "      <td>1.000000</td>\n",
       "      <td>8.000000</td>\n",
       "      <td>1.532500e+04</td>\n",
       "      <td>0.000000</td>\n",
       "      <td>5.000000</td>\n",
       "      <td>1390.000000</td>\n",
       "      <td>73.000000</td>\n",
       "      <td>5.00000</td>\n",
       "      <td>4.000000</td>\n",
       "      <td>5.000000</td>\n",
       "      <td>0.000000</td>\n",
       "      <td>0.000000</td>\n",
       "    </tr>\n",
       "    <tr>\n",
       "      <th>50%</th>\n",
       "      <td>6.000000</td>\n",
       "      <td>9.000000</td>\n",
       "      <td>6.400000e+04</td>\n",
       "      <td>1.000000</td>\n",
       "      <td>7.000000</td>\n",
       "      <td>1798.000000</td>\n",
       "      <td>92.000000</td>\n",
       "      <td>6.00000</td>\n",
       "      <td>4.000000</td>\n",
       "      <td>5.000000</td>\n",
       "      <td>0.000000</td>\n",
       "      <td>1.000000</td>\n",
       "    </tr>\n",
       "    <tr>\n",
       "      <th>75%</th>\n",
       "      <td>6.000000</td>\n",
       "      <td>16.000000</td>\n",
       "      <td>1.310000e+05</td>\n",
       "      <td>3.000000</td>\n",
       "      <td>11.000000</td>\n",
       "      <td>1984.000000</td>\n",
       "      <td>120.000000</td>\n",
       "      <td>7.00000</td>\n",
       "      <td>4.000000</td>\n",
       "      <td>5.000000</td>\n",
       "      <td>1.000000</td>\n",
       "      <td>1.000000</td>\n",
       "    </tr>\n",
       "    <tr>\n",
       "      <th>max</th>\n",
       "      <td>7.000000</td>\n",
       "      <td>22.000000</td>\n",
       "      <td>9.143000e+06</td>\n",
       "      <td>3.000000</td>\n",
       "      <td>69.000000</td>\n",
       "      <td>32000.000000</td>\n",
       "      <td>968.000000</td>\n",
       "      <td>8.00000</td>\n",
       "      <td>6.000000</td>\n",
       "      <td>7.000000</td>\n",
       "      <td>1.000000</td>\n",
       "      <td>1.000000</td>\n",
       "    </tr>\n",
       "  </tbody>\n",
       "</table>\n",
       "</div>"
      ],
      "text/plain": [
       "             Maker        model      Distance   Owner Type   Age of car  \\\n",
       "count  5615.000000  5615.000000  5.615000e+03  5615.000000  5615.000000   \n",
       "mean      4.336955    11.123419  9.516312e+04     1.475512     8.512378   \n",
       "std       2.531261     6.131841  3.053505e+05     1.133138     4.737177   \n",
       "min       0.000000     0.000000  0.000000e+00     0.000000     3.000000   \n",
       "25%       1.000000     8.000000  1.532500e+04     0.000000     5.000000   \n",
       "50%       6.000000     9.000000  6.400000e+04     1.000000     7.000000   \n",
       "75%       6.000000    16.000000  1.310000e+05     3.000000    11.000000   \n",
       "max       7.000000    22.000000  9.143000e+06     3.000000    69.000000   \n",
       "\n",
       "       engine_displacement  engine_power  Vroom Audit Rating   door_count  \\\n",
       "count          5615.000000   5615.000000          5615.00000  5615.000000   \n",
       "mean           1875.839003     99.474573             5.99537     3.981478   \n",
       "std            1402.871783     44.798075             1.39901     0.669993   \n",
       "min             100.000000     10.000000             4.00000     2.000000   \n",
       "25%            1390.000000     73.000000             5.00000     4.000000   \n",
       "50%            1798.000000     92.000000             6.00000     4.000000   \n",
       "75%            1984.000000    120.000000             7.00000     4.000000   \n",
       "max           32000.000000    968.000000             8.00000     6.000000   \n",
       "\n",
       "        seat_count         auto       diesel  \n",
       "count  5615.000000  5615.000000  5615.000000  \n",
       "mean      4.903117     0.306679     0.513446  \n",
       "std       0.512282     0.461156     0.499864  \n",
       "min       2.000000     0.000000     0.000000  \n",
       "25%       5.000000     0.000000     0.000000  \n",
       "50%       5.000000     0.000000     1.000000  \n",
       "75%       5.000000     1.000000     1.000000  \n",
       "max       7.000000     1.000000     1.000000  "
      ]
     },
     "execution_count": 43,
     "metadata": {},
     "output_type": "execute_result"
    }
   ],
   "source": [
    "dfc.describe()"
   ]
  },
  {
   "cell_type": "code",
   "execution_count": 44,
   "metadata": {},
   "outputs": [
    {
     "data": {
      "text/plain": [
       "Maker                  0\n",
       "model                  0\n",
       "Distance               0\n",
       "Owner Type             0\n",
       "Age of car             0\n",
       "engine_displacement    0\n",
       "engine_power           0\n",
       "Vroom Audit Rating     0\n",
       "door_count             0\n",
       "seat_count             0\n",
       "auto                   0\n",
       "diesel                 0\n",
       "dtype: int64"
      ]
     },
     "execution_count": 44,
     "metadata": {},
     "output_type": "execute_result"
    }
   ],
   "source": [
    "dfc.isna().sum()"
   ]
  },
  {
   "cell_type": "code",
   "execution_count": 45,
   "metadata": {},
   "outputs": [
    {
     "name": "stdout",
     "output_type": "stream",
     "text": [
      "<class 'pandas.core.frame.DataFrame'>\n",
      "RangeIndex: 5615 entries, 0 to 5614\n",
      "Data columns (total 12 columns):\n",
      " #   Column               Non-Null Count  Dtype  \n",
      "---  ------               --------------  -----  \n",
      " 0   Maker                5615 non-null   int32  \n",
      " 1   model                5615 non-null   int32  \n",
      " 2   Distance             5615 non-null   float64\n",
      " 3   Owner Type           5615 non-null   int32  \n",
      " 4   Age of car           5615 non-null   int64  \n",
      " 5   engine_displacement  5615 non-null   int64  \n",
      " 6   engine_power         5615 non-null   float64\n",
      " 7   Vroom Audit Rating   5615 non-null   int64  \n",
      " 8   door_count           5615 non-null   int32  \n",
      " 9   seat_count           5615 non-null   int32  \n",
      " 10  auto                 5615 non-null   uint8  \n",
      " 11  diesel               5615 non-null   uint8  \n",
      "dtypes: float64(2), int32(5), int64(3), uint8(2)\n",
      "memory usage: 340.1 KB\n"
     ]
    }
   ],
   "source": [
    "dfc.info()"
   ]
  },
  {
   "cell_type": "code",
   "execution_count": 46,
   "metadata": {},
   "outputs": [],
   "source": [
    "dfc.drop(columns = ['Vroom Audit Rating'], inplace=True)"
   ]
  },
  {
   "cell_type": "code",
   "execution_count": 47,
   "metadata": {},
   "outputs": [
    {
     "data": {
      "text/plain": [
       "Maker                  -0.699531\n",
       "model                   0.148716\n",
       "Distance               21.339748\n",
       "Owner Type              0.031997\n",
       "Age of car              2.151669\n",
       "engine_displacement    13.087956\n",
       "engine_power            2.707252\n",
       "door_count             -1.507222\n",
       "seat_count             -2.071220\n",
       "auto                    0.838720\n",
       "diesel                 -0.053818\n",
       "dtype: float64"
      ]
     },
     "execution_count": 47,
     "metadata": {},
     "output_type": "execute_result"
    }
   ],
   "source": [
    "dfc.skew()"
   ]
  },
  {
   "cell_type": "code",
   "execution_count": null,
   "metadata": {},
   "outputs": [],
   "source": []
  },
  {
   "cell_type": "code",
   "execution_count": 48,
   "metadata": {},
   "outputs": [],
   "source": [
    "dfc_1 = pd.read_csv('Test_Data_Set.csv')\n",
    "final_ids = dfc_1.pop(\"Id\")\n",
    "ids = pd.DataFrame(final_ids)"
   ]
  },
  {
   "cell_type": "code",
   "execution_count": 49,
   "metadata": {},
   "outputs": [],
   "source": [
    "import pickle\n",
    "RFR_model = pickle.load(open('RFR_model.sav','rb'))\n"
   ]
  },
  {
   "cell_type": "code",
   "execution_count": 50,
   "metadata": {},
   "outputs": [],
   "source": [
    "pred_RFR_model = RFR_model.predict(dfc)"
   ]
  },
  {
   "cell_type": "code",
   "execution_count": 51,
   "metadata": {},
   "outputs": [],
   "source": [
    "predictions_rfr = pd.DataFrame(pred_RFR_model)\n",
    "final_rfr = ids.join(predictions_rfr )\n",
    "final_rfr.rename(columns={ 0:'Price'}, inplace=True)\n",
    "final_rfr.to_csv(\"hello1.csv\", index=False)\n"
   ]
  },
  {
   "cell_type": "code",
   "execution_count": null,
   "metadata": {},
   "outputs": [],
   "source": []
  },
  {
   "cell_type": "code",
   "execution_count": 52,
   "metadata": {},
   "outputs": [],
   "source": [
    "import pickle\n",
    "xgb_model = pickle.load(open('xgb_model.sav','rb'))\n"
   ]
  },
  {
   "cell_type": "code",
   "execution_count": 53,
   "metadata": {},
   "outputs": [],
   "source": [
    "pred_xgb_model = xgb_model.predict(dfc)"
   ]
  },
  {
   "cell_type": "code",
   "execution_count": 54,
   "metadata": {},
   "outputs": [],
   "source": [
    "predictions_xgb_model = pd.DataFrame(pred_xgb_model)"
   ]
  },
  {
   "cell_type": "code",
   "execution_count": 55,
   "metadata": {},
   "outputs": [],
   "source": [
    "final_xgb_model = ids.join(predictions_xgb_model)\n",
    "final_xgb_model.rename(columns={ 0:'Price'}, inplace=True)\n",
    "final_xgb_model.to_csv(\"hello2.csv\", index=False)\n"
   ]
  },
  {
   "cell_type": "code",
   "execution_count": null,
   "metadata": {},
   "outputs": [],
   "source": []
  },
  {
   "cell_type": "code",
   "execution_count": null,
   "metadata": {},
   "outputs": [],
   "source": []
  },
  {
   "cell_type": "code",
   "execution_count": null,
   "metadata": {},
   "outputs": [],
   "source": []
  },
  {
   "cell_type": "code",
   "execution_count": 56,
   "metadata": {},
   "outputs": [],
   "source": [
    "import pickle\n",
    "xgb_rf_model = pickle.load(open('xgb_rf_model.sav', 'rb'))"
   ]
  },
  {
   "cell_type": "code",
   "execution_count": 57,
   "metadata": {},
   "outputs": [],
   "source": [
    "y_pred_rf = xgb_rf_model.predict(dfc)"
   ]
  },
  {
   "cell_type": "code",
   "execution_count": 58,
   "metadata": {},
   "outputs": [],
   "source": [
    "predictions_rf = pd.DataFrame(y_pred_rf)\n",
    "final_rf = ids.join(predictions_rf)\n",
    "final_rf.rename(columns={0:'Price'}, inplace=True)"
   ]
  },
  {
   "cell_type": "code",
   "execution_count": 59,
   "metadata": {},
   "outputs": [],
   "source": [
    "final_rf.to_csv(\"hello3.csv\", index = False)"
   ]
  },
  {
   "cell_type": "code",
   "execution_count": null,
   "metadata": {},
   "outputs": [],
   "source": []
  },
  {
   "cell_type": "code",
   "execution_count": 60,
   "metadata": {},
   "outputs": [],
   "source": [
    "import pickle\n",
    "grid_search = pickle.load(open('grid_search_model.sav', 'rb'))"
   ]
  },
  {
   "cell_type": "code",
   "execution_count": 61,
   "metadata": {},
   "outputs": [
    {
     "ename": "NotFittedError",
     "evalue": "This GridSearchCV instance is not fitted yet. Call 'fit' with appropriate arguments before using this estimator.",
     "output_type": "error",
     "traceback": [
      "\u001b[1;31m---------------------------------------------------------------------------\u001b[0m",
      "\u001b[1;31mNotFittedError\u001b[0m                            Traceback (most recent call last)",
      "Cell \u001b[1;32mIn[61], line 1\u001b[0m\n\u001b[1;32m----> 1\u001b[0m y_pred_gs \u001b[38;5;241m=\u001b[39m \u001b[43mgrid_search\u001b[49m\u001b[38;5;241;43m.\u001b[39;49m\u001b[43mpredict\u001b[49m\u001b[43m(\u001b[49m\u001b[43mdfc\u001b[49m\u001b[43m)\u001b[49m\n\u001b[0;32m      2\u001b[0m predictions_gs \u001b[38;5;241m=\u001b[39m pd\u001b[38;5;241m.\u001b[39mDataFrame(y_pred_gs)\n\u001b[0;32m      3\u001b[0m final_gs \u001b[38;5;241m=\u001b[39m ids\u001b[38;5;241m.\u001b[39mjoin(predictions_gs)\n",
      "File \u001b[1;32m~\\anaconda3\\lib\\site-packages\\sklearn\\model_selection\\_search.py:498\u001b[0m, in \u001b[0;36mBaseSearchCV.predict\u001b[1;34m(self, X)\u001b[0m\n\u001b[0;32m    479\u001b[0m \u001b[38;5;129m@available_if\u001b[39m(_estimator_has(\u001b[38;5;124m\"\u001b[39m\u001b[38;5;124mpredict\u001b[39m\u001b[38;5;124m\"\u001b[39m))\n\u001b[0;32m    480\u001b[0m \u001b[38;5;28;01mdef\u001b[39;00m \u001b[38;5;21mpredict\u001b[39m(\u001b[38;5;28mself\u001b[39m, X):\n\u001b[0;32m    481\u001b[0m \u001b[38;5;250m    \u001b[39m\u001b[38;5;124;03m\"\"\"Call predict on the estimator with the best found parameters.\u001b[39;00m\n\u001b[0;32m    482\u001b[0m \n\u001b[0;32m    483\u001b[0m \u001b[38;5;124;03m    Only available if ``refit=True`` and the underlying estimator supports\u001b[39;00m\n\u001b[1;32m   (...)\u001b[0m\n\u001b[0;32m    496\u001b[0m \u001b[38;5;124;03m        the best found parameters.\u001b[39;00m\n\u001b[0;32m    497\u001b[0m \u001b[38;5;124;03m    \"\"\"\u001b[39;00m\n\u001b[1;32m--> 498\u001b[0m     \u001b[43mcheck_is_fitted\u001b[49m\u001b[43m(\u001b[49m\u001b[38;5;28;43mself\u001b[39;49m\u001b[43m)\u001b[49m\n\u001b[0;32m    499\u001b[0m     \u001b[38;5;28;01mreturn\u001b[39;00m \u001b[38;5;28mself\u001b[39m\u001b[38;5;241m.\u001b[39mbest_estimator_\u001b[38;5;241m.\u001b[39mpredict(X)\n",
      "File \u001b[1;32m~\\anaconda3\\lib\\site-packages\\sklearn\\utils\\validation.py:1390\u001b[0m, in \u001b[0;36mcheck_is_fitted\u001b[1;34m(estimator, attributes, msg, all_or_any)\u001b[0m\n\u001b[0;32m   1385\u001b[0m     fitted \u001b[38;5;241m=\u001b[39m [\n\u001b[0;32m   1386\u001b[0m         v \u001b[38;5;28;01mfor\u001b[39;00m v \u001b[38;5;129;01min\u001b[39;00m \u001b[38;5;28mvars\u001b[39m(estimator) \u001b[38;5;28;01mif\u001b[39;00m v\u001b[38;5;241m.\u001b[39mendswith(\u001b[38;5;124m\"\u001b[39m\u001b[38;5;124m_\u001b[39m\u001b[38;5;124m\"\u001b[39m) \u001b[38;5;129;01mand\u001b[39;00m \u001b[38;5;129;01mnot\u001b[39;00m v\u001b[38;5;241m.\u001b[39mstartswith(\u001b[38;5;124m\"\u001b[39m\u001b[38;5;124m__\u001b[39m\u001b[38;5;124m\"\u001b[39m)\n\u001b[0;32m   1387\u001b[0m     ]\n\u001b[0;32m   1389\u001b[0m \u001b[38;5;28;01mif\u001b[39;00m \u001b[38;5;129;01mnot\u001b[39;00m fitted:\n\u001b[1;32m-> 1390\u001b[0m     \u001b[38;5;28;01mraise\u001b[39;00m NotFittedError(msg \u001b[38;5;241m%\u001b[39m {\u001b[38;5;124m\"\u001b[39m\u001b[38;5;124mname\u001b[39m\u001b[38;5;124m\"\u001b[39m: \u001b[38;5;28mtype\u001b[39m(estimator)\u001b[38;5;241m.\u001b[39m\u001b[38;5;18m__name__\u001b[39m})\n",
      "\u001b[1;31mNotFittedError\u001b[0m: This GridSearchCV instance is not fitted yet. Call 'fit' with appropriate arguments before using this estimator."
     ]
    }
   ],
   "source": [
    "y_pred_gs = grid_search.predict(dfc)\n",
    "predictions_gs = pd.DataFrame(y_pred_gs)\n",
    "final_gs = ids.join(predictions_gs)\n",
    "final_gs.rename(columns={0:'Price'}, inplace=True)\n",
    "final_gs.to_csv(\"hello4.csv\", index=False)"
   ]
  },
  {
   "cell_type": "code",
   "execution_count": null,
   "metadata": {},
   "outputs": [],
   "source": []
  },
  {
   "cell_type": "code",
   "execution_count": 62,
   "metadata": {},
   "outputs": [],
   "source": [
    "import pickle\n",
    "RFR_model_2 = pickle.load(open('RFR_model2.sav','rb'))\n"
   ]
  },
  {
   "cell_type": "code",
   "execution_count": 63,
   "metadata": {},
   "outputs": [],
   "source": [
    "pred_RFR_model_2 = RFR_model_2.predict(dfc)"
   ]
  },
  {
   "cell_type": "code",
   "execution_count": 64,
   "metadata": {},
   "outputs": [],
   "source": [
    "predictions_rfr_2 = pd.DataFrame(pred_RFR_model_2)\n",
    "final_rfr_2 = ids.join(predictions_rfr_2 )\n",
    "final_rfr_2.rename(columns={ 0:'Price'}, inplace=True)\n",
    "final_rfr_2.to_csv(\"hello5.csv\", index=False)\n"
   ]
  },
  {
   "cell_type": "code",
   "execution_count": 65,
   "metadata": {},
   "outputs": [],
   "source": [
    "# hello5, hello3, hello2, hello1,"
   ]
  },
  {
   "cell_type": "code",
   "execution_count": null,
   "metadata": {},
   "outputs": [],
   "source": []
  },
  {
   "cell_type": "code",
   "execution_count": null,
   "metadata": {},
   "outputs": [],
   "source": []
  },
  {
   "cell_type": "code",
   "execution_count": null,
   "metadata": {},
   "outputs": [],
   "source": []
  },
  {
   "cell_type": "code",
   "execution_count": null,
   "metadata": {},
   "outputs": [],
   "source": []
  }
 ],
 "metadata": {
  "kernelspec": {
   "display_name": "Python 3 (ipykernel)",
   "language": "python",
   "name": "python3"
  },
  "language_info": {
   "codemirror_mode": {
    "name": "ipython",
    "version": 3
   },
   "file_extension": ".py",
   "mimetype": "text/x-python",
   "name": "python",
   "nbconvert_exporter": "python",
   "pygments_lexer": "ipython3",
   "version": "3.9.16"
  }
 },
 "nbformat": 4,
 "nbformat_minor": 4
}
